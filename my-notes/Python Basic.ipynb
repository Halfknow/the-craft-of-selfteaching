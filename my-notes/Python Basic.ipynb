{
 "cells": [
  {
   "cell_type": "markdown",
   "metadata": {},
   "source": [
    "# String\n",
    "\n",
    "## Transform String\n",
    "\n",
    "maketrans()"
   ]
  },
  {
   "cell_type": "code",
   "execution_count": 1,
   "metadata": {},
   "outputs": [
    {
     "name": "stdout",
     "output_type": "stream",
     "text": [
      "{97: 99, 98: 100, 99: 101, 100: 102, 101: 103, 102: 104, 103: 105, 104: 106, 105: 107, 106: 108, 107: 109, 108: 110, 109: 111, 110: 112, 111: 113, 112: 114, 113: 115, 114: 116, 115: 117, 116: 118, 117: 119, 118: 120, 119: 121, 120: 122, 121: 97, 122: 98}\n",
      "ocr\n"
     ]
    },
    {
     "data": {
      "text/plain": [
       "'ocr'"
      ]
     },
     "execution_count": 1,
     "metadata": {},
     "output_type": "execute_result"
    }
   ],
   "source": [
    "url = 'map'\n",
    "table = str.maketrans(\"abcdefghijklmnopqrstuvwxyz\", \"cdefghijklmnopqrstuvwxyzab\")\n",
    "result = url.translate(table)\n",
    "print(table)\n",
    "print(result)\n",
    "result"
   ]
  },
  {
   "cell_type": "code",
   "execution_count": 22,
   "metadata": {},
   "outputs": [
    {
     "name": "stdout",
     "output_type": "stream",
     "text": [
      "foo\n"
     ]
    }
   ],
   "source": [
    "tup = tuple(['foo', [1, 2], True])\n",
    "print(tup[0])   # Prints the 1st element in the tuple tup\n",
    "\n",
    "#tup[2] = False    # fails because tuples are immutable"
   ]
  },
  {
   "cell_type": "code",
   "execution_count": 23,
   "metadata": {},
   "outputs": [
    {
     "name": "stdout",
     "output_type": "stream",
     "text": [
      "-7263014831725970818\n",
      "1097636502276347782\n"
     ]
    }
   ],
   "source": [
    "print(hash('string'))\n",
    "print(hash((1,2,(2,3))))\n",
    "#print(hash((1,2,[3,4])))  # fails because lists are mutable"
   ]
  },
  {
   "cell_type": "markdown",
   "metadata": {},
   "source": [
    "# Jupyter Magic Functions\n",
    "\n",
    "在 Code Cell 里，可以运行一些 “魔法函数”（Magic Functions），这是秉承了 IPython 的特性。绝大多数在 IPython 里能够使用的魔法函数在 Jupyterlab 里都可以直接使用。完整的 IPython 魔法函数请参照：\n",
    "\n",
    "> https://ipython.readthedocs.io/en/stable/interactive/magics.html\n",
    "\n",
    "Jupyterlab 里较为常用的魔法函数整理如下：\n",
    "\n",
    "| 魔法函数              | 说明                                                         |\n",
    "| -------------------- | ------------------------------------------------------------ |\n",
    "| `%lsmagic`           | 列出所有可被使用的 Jupyter lab 魔法函数                      |\n",
    "| `%run`               | 在 Cell 中运行 `.py` 文件：`%run file_name`                  |\n",
    "| `%who`               | 列出所有当前 Global Scope 中的变量；类似的还有：`%who df`，`%whos` |\n",
    "| `%env`               | 列出当前的环境变量                                           |\n",
    "| `%load`              | 将其他文件内容导入 Cell，`%load source`，`source` 可以是文件名，也可以是 URL。|\n",
    "| `%time`              | 返回 Cell 内代码执行的时间，相关的还有 `%timeit`             |\n",
    "| `%writefile`         | 把 Cell 的内容写入文件，`%write file_name`；%write -a file_name，`-a` 是追加 |\n",
    "| `%matplotlib inline` | 行内展示 matplotlib 的结果                                   |\n",
    "| `%%bash`             | 运行随后的 shell 命令，比如 %%bash ls；与之类似的还有 `%%HTML`，`%%python2`，`%%python3`，`%%ruby`，`%%perl`…… |"
   ]
  }
 ],
 "metadata": {
  "kernelspec": {
   "display_name": "Python 3",
   "language": "python",
   "name": "python3"
  },
  "language_info": {
   "codemirror_mode": {
    "name": "ipython",
    "version": 3
   },
   "file_extension": ".py",
   "mimetype": "text/x-python",
   "name": "python",
   "nbconvert_exporter": "python",
   "pygments_lexer": "ipython3",
   "version": "3.7.4"
  }
 },
 "nbformat": 4,
 "nbformat_minor": 4
}
