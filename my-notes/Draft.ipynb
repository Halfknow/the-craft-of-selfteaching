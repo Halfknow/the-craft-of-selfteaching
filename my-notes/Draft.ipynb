{
 "cells": [
  {
   "cell_type": "markdown",
   "metadata": {},
   "source": [
    "## String Operator\n",
    "#### lstrip(), rstrip(), strip()(<font color = red>**strip from both sides**</font>)"
   ]
  },
  {
   "cell_type": "code",
   "execution_count": 11,
   "metadata": {},
   "outputs": [
    {
     "name": "stdout",
     "output_type": "stream",
     "text": [
      "mississipp\n",
      "mdsafdsaf\n",
      "gfg\n"
     ]
    }
   ],
   "source": [
    "print('mississippi'.rstrip('i'))\n",
    "print('lliomdsafdsaf'.lstrip('lio'))\n",
    "print('lliomdsafdsafgfgf'.strip('liomdsaf'))"
   ]
  },
  {
   "cell_type": "code",
   "execution_count": null,
   "metadata": {},
   "outputs": [],
   "source": []
  }
 ],
 "metadata": {
  "kernelspec": {
   "display_name": "Python 3",
   "language": "python",
   "name": "python3"
  },
  "language_info": {
   "codemirror_mode": {
    "name": "ipython",
    "version": 3
   },
   "file_extension": ".py",
   "mimetype": "text/x-python",
   "name": "python",
   "nbconvert_exporter": "python",
   "pygments_lexer": "ipython3",
   "version": "3.7.3"
  }
 },
 "nbformat": 4,
 "nbformat_minor": 2
}
